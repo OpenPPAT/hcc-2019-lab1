{
 "cells": [
  {
   "cell_type": "markdown",
   "metadata": {},
   "source": [
    "# Basic Python\n",
    "This topic will show some usage of python language, such as `package/module` import, `variable declaration`, `list`, `for loop`, `math operation`,etc. But we need to say: You can lead a horse to water, but you can’t make him drink. Sometimes you got trouble about coding, then you would google it and try to conquer it. After that, you will feel easy to use Python to solving problem. So get more exercise about Python and be familar with it, you will get stronger on this field. If you are available to read more material, we suggest you can visit [w3school\n",
    "](https://www.w3schools.com/python/) to get more python usage."
   ]
  },
  {
   "cell_type": "markdown",
   "metadata": {},
   "source": [
    "## Import package\n",
    "Python has a lot of useful packages/modules that people can install them on their machine"
   ]
  },
  {
   "cell_type": "code",
   "execution_count": 1,
   "metadata": {},
   "outputs": [],
   "source": [
    "import sys\n",
    "import numpy as np"
   ]
  },
  {
   "cell_type": "code",
   "execution_count": 2,
   "metadata": {},
   "outputs": [
    {
     "data": {
      "text/plain": [
       "3.141592653589793"
      ]
     },
     "execution_count": 2,
     "metadata": {},
     "output_type": "execute_result"
    }
   ],
   "source": [
    "np.pi    # output directly"
   ]
  },
  {
   "cell_type": "code",
   "execution_count": 3,
   "metadata": {},
   "outputs": [
    {
     "data": {
      "text/plain": [
       "float"
      ]
     },
     "execution_count": 3,
     "metadata": {},
     "output_type": "execute_result"
    }
   ],
   "source": [
    "type(np.pi)"
   ]
  },
  {
   "cell_type": "markdown",
   "metadata": {},
   "source": [
    "## Math operation"
   ]
  },
  {
   "cell_type": "code",
   "execution_count": 4,
   "metadata": {},
   "outputs": [
    {
     "name": "stdout",
     "output_type": "stream",
     "text": [
      "100\n"
     ]
    }
   ],
   "source": [
    "a = 10\n",
    "b = a**2    # power\n",
    "\n",
    "print(b)    # print with "
   ]
  },
  {
   "cell_type": "code",
   "execution_count": 5,
   "metadata": {},
   "outputs": [
    {
     "data": {
      "text/plain": [
       "2"
      ]
     },
     "execution_count": 5,
     "metadata": {},
     "output_type": "execute_result"
    }
   ],
   "source": [
    "a = 8\n",
    "b = 3\n",
    "a % b    # mod"
   ]
  },
  {
   "cell_type": "markdown",
   "metadata": {},
   "source": [
    "## List"
   ]
  },
  {
   "cell_type": "code",
   "execution_count": 6,
   "metadata": {},
   "outputs": [
    {
     "name": "stdout",
     "output_type": "stream",
     "text": [
      "after adding:\t\t [10, 20, 30, 40, 50]\n",
      "after removing by val:\t [10, 30, 40, 50]\n",
      "after removing by idx:\t [10, 30, 50]\n"
     ]
    }
   ],
   "source": [
    "list_a = [10, 20]\n",
    "\n",
    "# add by append() method\n",
    "list_a.append(30)\n",
    "\n",
    "# add by '+' operator\n",
    "list_a = list_a + [40]\n",
    "list_a = list_a + [50]\n",
    "print('after adding:\\t\\t', list_a)\n",
    "\n",
    "# remove by value\n",
    "list_a.remove(20)\n",
    "print('after removing by val:\\t', list_a)\n",
    "\n",
    "# remove by index\n",
    "list_a.pop(2)    # note: Python count index from zero, so this operation cause to deleting third value in list\n",
    "print('after removing by idx:\\t', list_a)"
   ]
  },
  {
   "cell_type": "markdown",
   "metadata": {},
   "source": [
    "## Dictionary"
   ]
  },
  {
   "cell_type": "code",
   "execution_count": 7,
   "metadata": {},
   "outputs": [
    {
     "name": "stdout",
     "output_type": "stream",
     "text": [
      "Origin dict:\t {'Ray': 170, 'Alex': 177, 'Ian': 175, 'Sam': 170, 'Kiat': 180}\n",
      "After adding:\t {'Ray': 170, 'Alex': 177, 'Ian': 175, 'Sam': 170, 'Kiat': 180, 'Benson': 177, 'Leo': 175}\n",
      "After removing:\t {'Ray': 170, 'Alex': 177, 'Ian': 175, 'Kiat': 180, 'Benson': 177, 'Leo': 175}\n",
      "After modifying: {'Ray': 180, 'Alex': 177, 'Ian': 175, 'Kiat': 180, 'Benson': 177, 'Leo': 175}\n"
     ]
    }
   ],
   "source": [
    "dict_a = {'Ray': 170, 'Alex': 177, 'Ian':175, 'Sam':170, 'Kiat': 180}\n",
    "print('Origin dict:\\t', dict_a)\n",
    "\n",
    "# add new item by update() function\n",
    "dict_a.update({'Benson': 177})\n",
    "dict_a.update({'Leo': 175})\n",
    "print('After adding:\\t', dict_a)\n",
    "\n",
    "# remove item\n",
    "dict_a.pop('Sam')\n",
    "print('After removing:\\t', dict_a)\n",
    "\n",
    "# modify item\n",
    "dict_a['Ray'] = 180\n",
    "print('After modifying:', dict_a)"
   ]
  },
  {
   "cell_type": "markdown",
   "metadata": {},
   "source": [
    "## Formatted Output"
   ]
  },
  {
   "cell_type": "code",
   "execution_count": 8,
   "metadata": {},
   "outputs": [
    {
     "name": "stdout",
     "output_type": "stream",
     "text": [
      "type(a) <class 'float'>\n",
      "type(b) <class 'int'>\n",
      "a + b = 50.64 + 60 = 110.64\n"
     ]
    }
   ],
   "source": [
    "a = 50.64\n",
    "b = 60\n",
    "print('type(a)', type(a))\n",
    "print('type(b)', type(b))\n",
    "print('a + b = {} + {} = {}'.format(a, b, a+b))"
   ]
  },
  {
   "cell_type": "markdown",
   "metadata": {},
   "source": [
    "## if..elif..else"
   ]
  },
  {
   "cell_type": "code",
   "execution_count": 9,
   "metadata": {},
   "outputs": [
    {
     "name": "stdout",
     "output_type": "stream",
     "text": [
      "True\n"
     ]
    }
   ],
   "source": [
    "a = 50\n",
    "if a < 50:\n",
    "    print('a<50')\n",
    "elif a > 50:\n",
    "    print('a>50')\n",
    "else:\n",
    "    print(a==50)"
   ]
  },
  {
   "cell_type": "code",
   "execution_count": 10,
   "metadata": {},
   "outputs": [
    {
     "data": {
      "text/plain": [
       "'a is equal to 50'"
      ]
     },
     "execution_count": 10,
     "metadata": {},
     "output_type": "execute_result"
    }
   ],
   "source": [
    "a = 50\n",
    "'a is not equal to 50' if a is not 50 else 'a is equal to 50' "
   ]
  },
  {
   "cell_type": "markdown",
   "metadata": {},
   "source": [
    "## For loop"
   ]
  },
  {
   "cell_type": "code",
   "execution_count": 11,
   "metadata": {},
   "outputs": [
    {
     "name": "stdout",
     "output_type": "stream",
     "text": [
      "range(0, 10)\n",
      "\n",
      "10\n",
      "11\n",
      "12\n",
      "13\n",
      "14\n"
     ]
    }
   ],
   "source": [
    "a = range(10)\n",
    "print(a)\n",
    "print()\n",
    "\n",
    "for cnt in range(10, 15):\n",
    "    print(cnt)"
   ]
  },
  {
   "cell_type": "markdown",
   "metadata": {},
   "source": [
    "## Function"
   ]
  },
  {
   "cell_type": "code",
   "execution_count": 12,
   "metadata": {},
   "outputs": [],
   "source": [
    "def fib(n):\n",
    "    if n < 0: raise ValueError        # More exception intro: http://www.runoob.com/python/python-exceptions.html\n",
    "    elif type(n) is not int: raise ValueError('Floating number is not allowed')\n",
    "    elif n > 30: raise NotImplementedError\n",
    "        \n",
    "    elif n == 0: return 0\n",
    "    elif n == 1: return 1\n",
    "    else: return fib(n-1) + fib(n-2)"
   ]
  },
  {
   "cell_type": "code",
   "execution_count": 13,
   "metadata": {},
   "outputs": [
    {
     "data": {
      "text/plain": [
       "55"
      ]
     },
     "execution_count": 13,
     "metadata": {},
     "output_type": "execute_result"
    }
   ],
   "source": [
    "n = 10\n",
    "\n",
    "fib(n)"
   ]
  },
  {
   "cell_type": "markdown",
   "metadata": {},
   "source": [
    "## Class"
   ]
  },
  {
   "cell_type": "code",
   "execution_count": 14,
   "metadata": {},
   "outputs": [
    {
     "name": "stdout",
     "output_type": "stream",
     "text": [
      "robot state: idle, loc=(50, 60)\n"
     ]
    }
   ],
   "source": [
    "class my_robot(object):\n",
    "    def __init__(self, state=None, location=()):\n",
    "        self.state = 'idle'\n",
    "        if location is not None: self.location = location\n",
    "        else: self.location = (0, 0)\n",
    "        \n",
    "    def __repr__(self):\n",
    "        return 'robot state: {}, loc={}'.format(self.state, self.location)\n",
    "    \n",
    "    def move_x(self, step):\n",
    "        tmp_list = list(self.location)\n",
    "        tmp_list[0] = tmp_list[0] + step\n",
    "        self.state = 'busy'\n",
    "        self.location = tuple(tmp_list) \n",
    "        # more tuple intro: https://www.tutorialspoint.com/python/python_tuples.htm\n",
    "    \n",
    "robot1 = my_robot(location=(50,60))\n",
    "print(robot1)"
   ]
  },
  {
   "cell_type": "code",
   "execution_count": 15,
   "metadata": {},
   "outputs": [
    {
     "name": "stdout",
     "output_type": "stream",
     "text": [
      "(50, 60)\n"
     ]
    }
   ],
   "source": [
    "print(robot1.location)"
   ]
  },
  {
   "cell_type": "code",
   "execution_count": 16,
   "metadata": {},
   "outputs": [
    {
     "name": "stdout",
     "output_type": "stream",
     "text": [
      "robot state: busy, loc=(60, 60)\n"
     ]
    }
   ],
   "source": [
    "robot1.move_x(10)\n",
    "print(robot1)"
   ]
  }
 ],
 "metadata": {
  "kernelspec": {
   "display_name": "Python 3",
   "language": "python",
   "name": "python3"
  },
  "language_info": {
   "codemirror_mode": {
    "name": "ipython",
    "version": 3
   },
   "file_extension": ".py",
   "mimetype": "text/x-python",
   "name": "python",
   "nbconvert_exporter": "python",
   "pygments_lexer": "ipython3",
   "version": "3.6.5"
  }
 },
 "nbformat": 4,
 "nbformat_minor": 2
}
