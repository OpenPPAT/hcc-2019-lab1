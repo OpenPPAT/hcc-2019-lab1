{
 "cells": [
  {
   "cell_type": "markdown",
   "metadata": {},
   "source": [
    "# Basic Python\n",
    "This topic will show some usage of python language, such as `package/module` import, `variable declaration`, `list`, `for loop`, `math operation`,etc. But we need to say: You can lead a horse to water, but you can’t make him drink. Sometimes you got trouble about coding, then you would google it and try to conquer it. After that, you will feel easy to use Python to solving problem. So get more exercise about Python and be familar with it, you will get stronger on this field. If you are available to read more material, we suggest you can visit [w3school\n",
    "](https://www.w3schools.com/python/) to get more python usage."
   ]
  },
  {
   "cell_type": "markdown",
   "metadata": {},
   "source": [
    "## Import package\n",
    "Python has a lot of useful packages/modules that people can install them on their machine"
   ]
  },
  {
   "cell_type": "code",
   "execution_count": 1,
   "metadata": {},
   "outputs": [],
   "source": [
    "import sys\n",
    "import numpy as np        # useful package for science "
   ]
  },
  {
   "cell_type": "code",
   "execution_count": 2,
   "metadata": {},
   "outputs": [
    {
     "data": {
      "text/plain": [
       "3.141592653589793"
      ]
     },
     "execution_count": 2,
     "metadata": {},
     "output_type": "execute_result"
    }
   ],
   "source": [
    "np.pi            # output directly"
   ]
  },
  {
   "cell_type": "code",
   "execution_count": 3,
   "metadata": {},
   "outputs": [
    {
     "data": {
      "text/plain": [
       "float"
      ]
     },
     "execution_count": 3,
     "metadata": {},
     "output_type": "execute_result"
    }
   ],
   "source": [
    "type(np.pi)      # check type of variable"
   ]
  },
  {
   "cell_type": "markdown",
   "metadata": {},
   "source": [
    "## Math operators"
   ]
  },
  {
   "cell_type": "code",
   "execution_count": 4,
   "metadata": {},
   "outputs": [
    {
     "name": "stdout",
     "output_type": "stream",
     "text": [
      "100\n"
     ]
    }
   ],
   "source": [
    "a = 10\n",
    "b = a**2    # exponentiation\n",
    "\n",
    "print(b)    # print out "
   ]
  },
  {
   "cell_type": "code",
   "execution_count": 5,
   "metadata": {},
   "outputs": [
    {
     "name": "stdout",
     "output_type": "stream",
     "text": [
      "a+b=14\n",
      "2\n",
      "3\n"
     ]
    }
   ],
   "source": [
    "a = 11\n",
    "b = 3\n",
    "print('a+b=' + str(a + b)) # convert number to string and print it out\n",
    "print(a % b)               # modulus\n",
    "print(a // b)              # divide with integral result"
   ]
  },
  {
   "cell_type": "markdown",
   "metadata": {},
   "source": [
    "## List"
   ]
  },
  {
   "cell_type": "code",
   "execution_count": 6,
   "metadata": {
    "scrolled": true
   },
   "outputs": [
    {
     "name": "stdout",
     "output_type": "stream",
     "text": [
      "After adding: [10, 20, 30, 40, 50, 60, 70]\n",
      "After operation by remove(val): [10, 30, 40, 50, 60, 70]\n",
      "After operation by pop(0): [30, 40, 50, 60, 70]\n",
      "After operation by pop(2): [30, 40, 60, 70]\n",
      "After operation by pop(-1): [30, 40, 60]\n"
     ]
    }
   ],
   "source": [
    "list_a = [10, 20, 30, 40]\n",
    "\n",
    "# add by append() method\n",
    "list_a.append(50)\n",
    "\n",
    "# add by '+' operator\n",
    "list_a = list_a + [60]\n",
    "list_a = list_a + [70]\n",
    "print('After adding: ' + str(list_a))\n",
    "\n",
    "# remove by value\n",
    "list_a.remove(20)\n",
    "print('After operation by remove(val): ' + str(list_a))\n",
    "\n",
    "# remove by index\n",
    "index = 0\n",
    "list_a.pop(index)\n",
    "print('After operation by pop(0): ' + str(list_a))\n",
    "\n",
    "index = 2\n",
    "list_a.pop(index)    # note: Python count index from zero, so this operation cause to deleting third value in list\n",
    "print('After operation by pop(2): ' + str(list_a))\n",
    "\n",
    "index = -1\n",
    "list_a.pop(index)    # note: index=-1 means the last element of the list\n",
    "print('After operation by pop(-1): ' + str(list_a))"
   ]
  },
  {
   "cell_type": "code",
   "execution_count": 7,
   "metadata": {},
   "outputs": [
    {
     "name": "stdout",
     "output_type": "stream",
     "text": [
      "Result of list.append: [10, 20, 30, [40, 50]]\n",
      "Length of list_a: 4\n",
      "==============================================\n",
      "Result of list.extend: [10, 20, 30, 40, 50]\n",
      "Length of list_a: 5\n"
     ]
    }
   ],
   "source": [
    "list_a = [10, 20, 30]\n",
    "list_b = [40, 50]\n",
    "list_a.append(list_b)\n",
    "print('Result of list.append: ' + str(list_a))\n",
    "print('Length of list_a: ' + str(len(list_a)))\n",
    "\n",
    "print('==============================================')\n",
    "list_a = [10, 20, 30]\n",
    "list_b = [40, 50]\n",
    "list_a.extend(list_b)\n",
    "print('Result of list.extend: ' + str(list_a))\n",
    "print('Length of list_a: ' + str(len(list_a)))"
   ]
  },
  {
   "cell_type": "markdown",
   "metadata": {},
   "source": [
    "## Tuple\n",
    "A tuple is a collection which is ordered and **unchangeable**. It is often used to pack multiple return of a function."
   ]
  },
  {
   "cell_type": "code",
   "execution_count": 8,
   "metadata": {},
   "outputs": [
    {
     "name": "stdout",
     "output_type": "stream",
     "text": [
      "<type 'tuple'>\n",
      "The index of Jack in the TA members is 3.\n"
     ]
    }
   ],
   "source": [
    "ta_members = ('Alex', 'Benson', 'Lily', 'Jack', 'Sam')\n",
    "print(type(ta_members))\n",
    "\n",
    "key_person = 'Jack'\n",
    "print('The index of {} in the TA members is {}.'.format(key_person, ta_members.index(key_person)))"
   ]
  },
  {
   "cell_type": "markdown",
   "metadata": {},
   "source": [
    "## Set\n",
    "A set is a collection which is **unordered** and **unindexed**."
   ]
  },
  {
   "cell_type": "code",
   "execution_count": 9,
   "metadata": {},
   "outputs": [
    {
     "name": "stdout",
     "output_type": "stream",
     "text": [
      "<type 'set'>\n",
      "set(['x', 'b', 'e', 't', 'o'])\n"
     ]
    }
   ],
   "source": [
    "word1 = 'textbox'\n",
    "set1 = set(word1)\n",
    "print(type(set1))\n",
    "print(set1)"
   ]
  },
  {
   "cell_type": "markdown",
   "metadata": {},
   "source": [
    "## Dictionary\n",
    "A dictionary is a collection which is unordered, changeable and indexed. In Python dictionaries are written with curly brackets, and **they have keys and values**."
   ]
  },
  {
   "cell_type": "code",
   "execution_count": 10,
   "metadata": {},
   "outputs": [
    {
     "name": "stdout",
     "output_type": "stream",
     "text": [
      "('Origin dict:     ', {'Kiat': 180, 'Ian': 175, 'Alex': 177, 'Sam': 170, 'Ray': 170})\n",
      "('After adding:    ', {'Benson': 177, 'Ian': 175, 'Alex': 177, 'Sam': 170, 'Kiat': 180, 'Leo': 175, 'Ray': 170})\n",
      "('After removing:  ', {'Benson': 177, 'Ian': 175, 'Alex': 177, 'Kiat': 180, 'Leo': 175, 'Ray': 170})\n",
      "('After modifying: ', {'Benson': 177, 'Ian': 175, 'Alex': 177, 'Kiat': 180, 'Leo': 175, 'Ray': 180})\n"
     ]
    }
   ],
   "source": [
    "dict_a = {'Ray': 170, 'Alex': 177, 'Ian':175, 'Sam':170, 'Kiat': 180}\n",
    "print('Origin dict:     ', dict_a)\n",
    "\n",
    "# add new item by update() function\n",
    "dict_a.update({'Benson': 177})\n",
    "dict_a.update({'Leo': 175})\n",
    "print('After adding:    ', dict_a)\n",
    "\n",
    "# remove item\n",
    "dict_a.pop('Sam')\n",
    "print('After removing:  ', dict_a)\n",
    "\n",
    "# modify item\n",
    "dict_a['Ray'] = 180\n",
    "print('After modifying: ', dict_a)"
   ]
  },
  {
   "cell_type": "markdown",
   "metadata": {},
   "source": [
    "## Formatted Output"
   ]
  },
  {
   "cell_type": "code",
   "execution_count": 11,
   "metadata": {},
   "outputs": [
    {
     "name": "stdout",
     "output_type": "stream",
     "text": [
      "type of variable a: <type 'float'>\n",
      "type of variable b: <type 'int'>\n",
      "50.647 + 60 = 110.647\n",
      "50.6 + 60 = 110.6\n"
     ]
    }
   ],
   "source": [
    "a = 50.647\n",
    "b = 60\n",
    "print('type of variable a: ' + str(type(a)))\n",
    "print('type of variable b: ' + str(type(b)))\n",
    "print('{} + {} = {}'.format(a, b, a+b))\n",
    "print('{:.1f} + {} = {:.1f}'.format(a, b, a+b))    # the output is truncated to the specified length"
   ]
  },
  {
   "cell_type": "markdown",
   "metadata": {},
   "source": [
    "## if..elif..else"
   ]
  },
  {
   "cell_type": "code",
   "execution_count": 12,
   "metadata": {},
   "outputs": [
    {
     "name": "stdout",
     "output_type": "stream",
     "text": [
      "True\n"
     ]
    }
   ],
   "source": [
    "a = 50\n",
    "if a < 50:\n",
    "    print('a<50')\n",
    "elif a > 50:\n",
    "    print('a>50')\n",
    "else:\n",
    "    print(a==50)"
   ]
  },
  {
   "cell_type": "code",
   "execution_count": 13,
   "metadata": {},
   "outputs": [
    {
     "name": "stdout",
     "output_type": "stream",
     "text": [
      "HanZongGee is in TA member.\n",
      "Alex is in TA member.\n"
     ]
    }
   ],
   "source": [
    "ta_members = ['Alex', 'Benson', 'Lily', 'Jack', 'Sam']\n",
    "if 'HanZongGee' in ta_members:\n",
    "    print('HanZongGee is in TA member.')\n",
    "else:\n",
    "    print('HanZongGee is in TA member.')\n",
    "\n",
    "if 'Alex' in ta_members:\n",
    "    print('Alex is in TA member.')"
   ]
  },
  {
   "cell_type": "markdown",
   "metadata": {},
   "source": [
    "## Loop"
   ]
  },
  {
   "cell_type": "code",
   "execution_count": 14,
   "metadata": {},
   "outputs": [
    {
     "name": "stdout",
     "output_type": "stream",
     "text": [
      "[0, 1, 2, 3, 4]\n",
      "====================================\n",
      "10\n",
      "11\n",
      "12\n",
      "13\n",
      "14\n",
      "====================================\n",
      "index: 0 = Alex\n",
      "index: 1 = Benson\n",
      "index: 2 = Lily\n",
      "index: 3 = Jack\n",
      "index: 4 = Sam\n"
     ]
    }
   ],
   "source": [
    "a = range(5)\n",
    "print(a)\n",
    "\n",
    "print('====================================')\n",
    "for cnt in range(10, 15):\n",
    "    print(cnt)\n",
    "\n",
    "print('====================================')\n",
    "ta_members = ['Alex', 'Benson', 'Lily', 'Jack', 'Sam']\n",
    "for idx, element in enumerate(ta_members):\n",
    "    print('index: {} = {}'.format(idx, element))"
   ]
  },
  {
   "cell_type": "markdown",
   "metadata": {},
   "source": [
    "## User-defined Function"
   ]
  },
  {
   "cell_type": "code",
   "execution_count": 15,
   "metadata": {},
   "outputs": [],
   "source": [
    "# example 1 --> multiple return\n",
    "def find_max(array):\n",
    "    tmp_max = float(\"-inf\")\n",
    "    tmp_idx = 0\n",
    "    for idx, element in enumerate(array):\n",
    "        if element >= tmp_max:\n",
    "            tmp_max = element\n",
    "            tmp_idx = idx\n",
    "    return tmp_idx, tmp_max        # multiple return"
   ]
  },
  {
   "cell_type": "code",
   "execution_count": 16,
   "metadata": {},
   "outputs": [],
   "source": [
    "# example 2 --> default input parameter\n",
    "def delete_element(array, index=-1):\n",
    "    return array.pop(index)"
   ]
  },
  {
   "cell_type": "code",
   "execution_count": 17,
   "metadata": {
    "scrolled": true
   },
   "outputs": [
    {
     "name": "stdout",
     "output_type": "stream",
     "text": [
      "The max number of array1 is 100, it is the 6th element in this array.\n",
      "====================================\n",
      "[50, 70, 90, 30, 10, 80, 60]\n",
      "[50, 70, 90, 30, 10, 80]\n"
     ]
    }
   ],
   "source": [
    "array1 = [50, 70, 90, 30, 10, 100, 80, 60]\n",
    "max_idx, max_num = find_max(array1)\n",
    "print('The max number of array1 is {}, it is the {}th element in this array.'.format(max_num, max_idx + 1))\n",
    "\n",
    "print('====================================')\n",
    "delete_element(array1, index=5)\n",
    "print(array1)\n",
    "\n",
    "delete_element(array1)\n",
    "print(array1)"
   ]
  },
  {
   "cell_type": "markdown",
   "metadata": {},
   "source": [
    "## User-defined Class"
   ]
  },
  {
   "cell_type": "code",
   "execution_count": 18,
   "metadata": {},
   "outputs": [
    {
     "name": "stdout",
     "output_type": "stream",
     "text": [
      "robot state: idle, loc=(50, 60)\n"
     ]
    }
   ],
   "source": [
    "class my_robot(object):\n",
    "    def __init__(self, state=None, location=()):\n",
    "        self.state = 'idle'\n",
    "        if location is not None: self.location = location\n",
    "        else: self.location = (0, 0)\n",
    "        \n",
    "    def __repr__(self):\n",
    "        return 'robot state: {}, loc={}'.format(self.state, self.location)\n",
    "    \n",
    "    def move_x(self, step):\n",
    "        tmp_list = list(self.location)\n",
    "        tmp_list[0] = tmp_list[0] + step\n",
    "        self.state = 'busy'\n",
    "        self.location = tuple(tmp_list) \n",
    "        # more tuple intro: https://www.tutorialspoint.com/python/python_tuples.htm\n",
    "    \n",
    "robot1 = my_robot(location=(50,60))\n",
    "print(robot1)"
   ]
  },
  {
   "cell_type": "code",
   "execution_count": 19,
   "metadata": {},
   "outputs": [
    {
     "name": "stdout",
     "output_type": "stream",
     "text": [
      "(50, 60)\n"
     ]
    }
   ],
   "source": [
    "print(robot1.location)"
   ]
  },
  {
   "cell_type": "code",
   "execution_count": 20,
   "metadata": {},
   "outputs": [
    {
     "name": "stdout",
     "output_type": "stream",
     "text": [
      "robot state: busy, loc=(60, 60)\n"
     ]
    }
   ],
   "source": [
    "robot1.move_x(10)\n",
    "print(robot1)"
   ]
  }
 ],
 "metadata": {
  "kernelspec": {
   "display_name": "Python 2",
   "language": "python",
   "name": "python2"
  },
  "language_info": {
   "codemirror_mode": {
    "name": "ipython",
    "version": 2
   },
   "file_extension": ".py",
   "mimetype": "text/x-python",
   "name": "python",
   "nbconvert_exporter": "python",
   "pygments_lexer": "ipython2",
   "version": "2.7.15+"
  }
 },
 "nbformat": 4,
 "nbformat_minor": 2
}
